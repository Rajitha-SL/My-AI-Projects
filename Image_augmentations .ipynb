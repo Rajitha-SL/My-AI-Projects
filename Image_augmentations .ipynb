{
 "cells": [
  {
   "cell_type": "code",
   "execution_count": null,
   "id": "758ee992",
   "metadata": {},
   "outputs": [],
   "source": [
    "from PIL import Image\n",
    "import matplotlib.pyplot as plt\n",
    "import numpy as np\n",
    "\n",
    "%matplotlib inline\n",
    "\n",
    "# TODO: Feel free to try out your own image here by changing img_path\n",
    "# to a file path to another image on your computer\n",
    "img_path = 'data/udacity_sdc.png'\n",
    "\n",
    "# Load color image \n",
    "img = Image.open(img_path)\n",
    "\n",
    "# Plot image\n",
    "plt.imshow(img) = plt.axis('off')"
   ]
  }
 ],
 "metadata": {
  "kernelspec": {
   "display_name": "Python 3 (ipykernel)",
   "language": "python",
   "name": "python3"
  },
  "language_info": {
   "codemirror_mode": {
    "name": "ipython",
    "version": 3
   },
   "file_extension": ".py",
   "mimetype": "text/x-python",
   "name": "python",
   "nbconvert_exporter": "python",
   "pygments_lexer": "ipython3",
   "version": "3.9.12"
  }
 },
 "nbformat": 4,
 "nbformat_minor": 5
}
