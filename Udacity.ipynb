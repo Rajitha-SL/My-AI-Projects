{
  "nbformat": 4,
  "nbformat_minor": 0,
  "metadata": {
    "colab": {
      "provenance": [],
      "include_colab_link": true
    },
    "kernelspec": {
      "name": "python3",
      "display_name": "Python 3"
    },
    "language_info": {
      "name": "python"
    }
  },
  "cells": [
    {
      "cell_type": "markdown",
      "metadata": {
        "id": "view-in-github",
        "colab_type": "text"
      },
      "source": [
        "<a href=\"https://colab.research.google.com/github/Rajitha-SL/My-AI-Projects/blob/AI-and-ML-learning/Udacity.ipynb\" target=\"_parent\"><img src=\"https://colab.research.google.com/assets/colab-badge.svg\" alt=\"Open In Colab\"/></a>"
      ]
    },
    {
      "cell_type": "markdown",
      "source": [
        "This is an example for a typical Convolutional Block"
      ],
      "metadata": {
        "id": "BelfTejO_-mi"
      }
    },
    {
      "cell_type": "code",
      "source": [
        "# self.conv1 = nn.Conv2d(3 ,16, 3, padding=1)\n",
        "# self.pool = nn.MaxPool2d(2,2)\n",
        "# self.relu1 = nn.ReLU()\n",
        "# self.drop1 = nn.Dropout2d(0.2)"
      ],
      "metadata": {
        "id": "EHv_Tt-f_WPM"
      },
      "execution_count": 1,
      "outputs": []
    },
    {
      "cell_type": "markdown",
      "source": [
        "This is how we do the same with nn.Sequential"
      ],
      "metadata": {
        "id": "WqCwjyHohVpv"
      }
    },
    {
      "cell_type": "code",
      "source": [
        "# self.conv_block = nn.Sequential(\n",
        "#    nn.Conv2d(3, 16, 3, padding = 1),\n",
        "#    nn.MaxPool(2,2),\n",
        "#    nn.ReLU(),\n",
        "#    nn.Dropout(0.2)\n",
        "# )"
      ],
      "metadata": {
        "id": "t6-RFp_ihkcC"
      },
      "execution_count": null,
      "outputs": []
    },
    {
      "cell_type": "markdown",
      "source": [
        "This is our first CNN in PyTorch"
      ],
      "metadata": {
        "id": "l4w00sJ0iU1h"
      }
    },
    {
      "cell_type": "code",
      "source": [
        "import torch\n",
        "import torch.nn as nn\n",
        "\n",
        "class MyCNN(nn.Module):\n",
        "  def __init__ (self, n_classes):\n",
        "    super.__init__()\n",
        "\n",
        "    # Creating layers. In this case just a standard MLP (Multi Layer Perceptron)\n",
        "    self.model = nn.Sequential(\n",
        "        # First conv + maxpool + relu\n",
        "        nn.Conv2d(3, 16, 3, padding = 1),\n",
        "        nn.MaxPool(2,2),\n",
        "        nn.ReLU(),\n",
        "        nn.Dropout(0.2),\n",
        "\n",
        "        # Second conv + maxpool + relu\n",
        "        nn.Conv2d(16, 32, 3, padding = 1),\n",
        "        nn.MaxPool(2,2),\n",
        "        nn.ReLU(),\n",
        "        nn.Dropout(0.2),\n",
        "\n",
        "        # Third conv + maxpool + relu\n",
        "        nn.Conv2d(32, 64, 3, padding = 1),\n",
        "        nn.MaxPool(2,2),\n",
        "        nn.ReLU(),\n",
        "        nn.Dropout(0.2),\n",
        "\n",
        "        # Flatten the 64 feature maps\n",
        "        nn.Flatten(),\n",
        "\n",
        "        # Fully connected layers. This assumes\n",
        "        # that the input image was 32X32\n",
        "        nn.Linear(1024, 128),\n",
        "        nn.ReLU(),\n",
        "        nn.Dropout(0.5),\n",
        "        nn.Linear(128, n_classes)\n",
        "    )\n",
        "\n",
        "  def forward(self, x):\n",
        "    # nn.Sequential will call the layers\n",
        "    # in the order they have been listed out\n",
        "    return self.model(x)\n",
        "\n",
        ""
      ],
      "metadata": {
        "id": "zIFwHyToiaoi"
      },
      "execution_count": 2,
      "outputs": []
    },
    {
      "cell_type": "code",
      "source": [],
      "metadata": {
        "id": "IjmKrGKFobnN"
      },
      "execution_count": null,
      "outputs": []
    }
  ]
}