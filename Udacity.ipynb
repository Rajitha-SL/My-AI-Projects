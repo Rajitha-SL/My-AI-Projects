{
  "nbformat": 4,
  "nbformat_minor": 0,
  "metadata": {
    "colab": {
      "provenance": [],
      "authorship_tag": "ABX9TyNgR7Z0So8b/+dGsUMPtDKd",
      "include_colab_link": true
    },
    "kernelspec": {
      "name": "python3",
      "display_name": "Python 3"
    },
    "language_info": {
      "name": "python"
    }
  },
  "cells": [
    {
      "cell_type": "markdown",
      "metadata": {
        "id": "view-in-github",
        "colab_type": "text"
      },
      "source": [
        "<a href=\"https://colab.research.google.com/github/Rajitha-SL/My-AI-Projects/blob/AI-and-ML-learning/Udacity.ipynb\" target=\"_parent\"><img src=\"https://colab.research.google.com/assets/colab-badge.svg\" alt=\"Open In Colab\"/></a>"
      ]
    },
    {
      "cell_type": "markdown",
      "source": [
        "This is an example for a typical Convolutional Block"
      ],
      "metadata": {
        "id": "BelfTejO_-mi"
      }
    },
    {
      "cell_type": "code",
      "source": [
        "# self.conv1 = nn.Conv2d(3 ,16, 3, padding=1)\n",
        "#"
      ],
      "metadata": {
        "id": "EHv_Tt-f_WPM"
      },
      "execution_count": 2,
      "outputs": []
    }
  ]
}