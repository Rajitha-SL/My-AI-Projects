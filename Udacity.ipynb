{
  "nbformat": 4,
  "nbformat_minor": 0,
  "metadata": {
    "colab": {
      "provenance": [],
      "include_colab_link": true
    },
    "kernelspec": {
      "name": "python3",
      "display_name": "Python 3"
    },
    "language_info": {
      "name": "python"
    }
  },
  "cells": [
    {
      "cell_type": "markdown",
      "metadata": {
        "id": "view-in-github",
        "colab_type": "text"
      },
      "source": [
        "<a href=\"https://colab.research.google.com/github/Rajitha-SL/My-AI-Projects/blob/AI-and-ML-learning/Udacity.ipynb\" target=\"_parent\"><img src=\"https://colab.research.google.com/assets/colab-badge.svg\" alt=\"Open In Colab\"/></a>"
      ]
    },
    {
      "cell_type": "markdown",
      "source": [
        "This is an example for a typical Convolutional Block"
      ],
      "metadata": {
        "id": "BelfTejO_-mi"
      }
    },
    {
      "cell_type": "code",
      "source": [
        "# self.conv1 = nn.Conv2d(3 ,16, 3, padding=1)\n",
        "# self.pool = nn.MaxPool2d(2,2)\n",
        "# self.relu1 = nn.ReLU()\n",
        "# self.drop1 = nn.Dropout2d(0.2)"
      ],
      "metadata": {
        "id": "EHv_Tt-f_WPM"
      },
      "execution_count": 1,
      "outputs": []
    },
    {
      "cell_type": "code",
      "source": [],
      "metadata": {
        "id": "HRBAw7QaBCrx"
      },
      "execution_count": null,
      "outputs": []
    }
  ]
}