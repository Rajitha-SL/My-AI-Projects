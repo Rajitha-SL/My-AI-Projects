{
  "nbformat": 4,
  "nbformat_minor": 0,
  "metadata": {
    "colab": {
      "provenance": [],
      "authorship_tag": "ABX9TyNAtZ1oulp8wsxJOGRItUm/",
      "include_colab_link": true
    },
    "kernelspec": {
      "name": "python3",
      "display_name": "Python 3"
    },
    "language_info": {
      "name": "python"
    }
  },
  "cells": [
    {
      "cell_type": "markdown",
      "metadata": {
        "id": "view-in-github",
        "colab_type": "text"
      },
      "source": [
        "<a href=\"https://colab.research.google.com/github/Rajitha-SL/My-AI-Projects/blob/AI-and-ML-learning/Transfer_learning.ipynb\" target=\"_parent\"><img src=\"https://colab.research.google.com/assets/colab-badge.svg\" alt=\"Open In Colab\"/></a>"
      ]
    },
    {
      "cell_type": "code",
      "execution_count": null,
      "metadata": {
        "id": "04B8PovsMf5s"
      },
      "outputs": [],
      "source": []
    },
    {
      "cell_type": "markdown",
      "source": [
        "Define a ResNet block in PyTorch"
      ],
      "metadata": {
        "id": "QuF4Da6SMshr"
      }
    },
    {
      "cell_type": "code",
      "source": [
        "import torch\n",
        "import torch.nn as nn\n",
        "\n",
        "class ResidualBlock(nn.Module):\n",
        "  def __init__(self):\n",
        "    super().__init__()\n",
        "\n",
        "    # We are defining a mini network\n",
        "    # that is made of two standard convolutional layers\n",
        "    # with the relu in-between\n",
        "    self.conv_block = nn.Sequential(\n",
        "        nn.Conv2d(inp, out1, 3),\n",
        "        nn.ReLU(),\n",
        "        nn.Conv2d(out1, out2, 3)\n",
        "        # Note that after the second layer\n",
        "        # there is no activation\n",
        "    )\n",
        "\n",
        "    self.relu = nn.ReLU()\n",
        "\n",
        "  def forward(self, x):\n",
        "    # F(x)\n",
        "    F = self.conv_block(x)\n",
        "    # Before we apply the second activation\n",
        "    # we add back the input x\n",
        "    # This is the implementation of the skip connection\n",
        "    H = F + x\n",
        "    return self.relu(H)\n"
      ],
      "metadata": {
        "id": "DNYcNKrRM1Od"
      },
      "execution_count": 1,
      "outputs": []
    },
    {
      "cell_type": "markdown",
      "source": [
        "We can see above that if the optimizer puts all the convolutional filters to 0, then F will be 0 and H will be equal to x\n",
        "\n",
        "Then the block will become the identity function."
      ],
      "metadata": {
        "id": "BMLUxI2OXsGU"
      }
    },
    {
      "cell_type": "markdown",
      "source": [
        "# Following is how we use squeeze and execitation block in PyTorch\n"
      ],
      "metadata": {
        "id": "QD3nPPh6d1f-"
      }
    },
    {
      "cell_type": "code",
      "source": [
        "import torch\n",
        "import torch.nn as nn\n",
        "\n",
        "class SqueezeExcitation(nn.Module):\n",
        "  def __init__(self, input_channels, squeeze_channels):\n",
        "    super().__init__()\n",
        "\n",
        "    # This is the squeeze part\n",
        "    # It is a Global Average Pooling GAP layer\n",
        "    self.squeeze = torch.nn.AdaptiveAvgPool2d(1)\n",
        "\n",
        "    # This is the exitation part\n",
        "    # This is a perceptron with two hidden layers and with a ReLU in between\n",
        "    self.excitation = nn.Sequential(\n",
        "        nn.Flatten(),\n",
        "        nn.Linear(input_channels, squeeze_channels),\n",
        "        nn.ReLU(),\n",
        "        nn.Linear(squeeze_channels, input_channels),\n",
        "        nn.Sigmoid()  # Squeezes the weights between 0 and 1\n",
        "    )\n",
        "\n",
        "  # In the forward part of this network\n",
        "  # We first squeeze\n",
        "  def forward(self,x):\n",
        "    out = self.squeeze(x)\n",
        "    # This is the excitation part\n",
        "    scale = self.excitation(out).unsqueeze(-1).unsqueeze(-1)\n",
        "    # Then we multiply the scaling factors by the input to boost or reduce\n",
        "    # the importance of the input feature maps\n",
        "    out = scale * x\n",
        "    return out\n"
      ],
      "metadata": {
        "id": "MKchoix8eS7y"
      },
      "execution_count": null,
      "outputs": []
    }
  ]
}