{
  "nbformat": 4,
  "nbformat_minor": 0,
  "metadata": {
    "colab": {
      "provenance": [],
      "authorship_tag": "ABX9TyPKUfXaTo276MewKK5Uyiif",
      "include_colab_link": true
    },
    "kernelspec": {
      "name": "python3",
      "display_name": "Python 3"
    },
    "language_info": {
      "name": "python"
    }
  },
  "cells": [
    {
      "cell_type": "markdown",
      "metadata": {
        "id": "view-in-github",
        "colab_type": "text"
      },
      "source": [
        "<a href=\"https://colab.research.google.com/github/Rajitha-SL/My-AI-Projects/blob/AI-and-ML-learning/Transfer_learning.ipynb\" target=\"_parent\"><img src=\"https://colab.research.google.com/assets/colab-badge.svg\" alt=\"Open In Colab\"/></a>"
      ]
    },
    {
      "cell_type": "code",
      "execution_count": 13,
      "metadata": {
        "id": "04B8PovsMf5s"
      },
      "outputs": [],
      "source": []
    },
    {
      "cell_type": "markdown",
      "source": [
        "Define a ResNet block in PyTorch"
      ],
      "metadata": {
        "id": "QuF4Da6SMshr"
      }
    },
    {
      "cell_type": "code",
      "source": [
        "import torch\n",
        "import torch.nn as nn\n",
        "\n",
        "class ResidualBlock(nn.Module):\n",
        "  def __init__(self):\n",
        "    super().__init__()\n",
        "\n",
        "    # We are defining a mini network\n",
        "    # that is made of two standard convolutional layers\n",
        "    # with the relu in-between\n",
        "    self.conv_block = nn.Sequential(\n",
        "        nn.Conv2d(inp, out1, 3),\n",
        "        nn.ReLU(),\n",
        "        nn.Conv2d(out1, out2, 3)\n",
        "        # Note that after the second layer\n",
        "        # there is no activation\n",
        "    )\n",
        "\n",
        "    self.relu = nn.ReLU()\n",
        "\n",
        "  def forward(self, x):\n",
        "    # F(x)\n",
        "    F = self.conv_block(x)\n",
        "    # Before we apply the second activation\n",
        "    # we add back the input x\n",
        "    # This is the implementation of the skip connection\n",
        "    H = F + x\n",
        "    return self.relu(H)\n"
      ],
      "metadata": {
        "id": "DNYcNKrRM1Od"
      },
      "execution_count": 14,
      "outputs": []
    },
    {
      "cell_type": "markdown",
      "source": [
        "We can see above that if the optimizer puts all the convolutional filters to 0, then F will be 0 and H will be equal to x\n",
        "\n",
        "Then the block will become the identity function."
      ],
      "metadata": {
        "id": "BMLUxI2OXsGU"
      }
    },
    {
      "cell_type": "markdown",
      "source": [
        "# Following is how we use squeeze and execitation block in PyTorch\n"
      ],
      "metadata": {
        "id": "QD3nPPh6d1f-"
      }
    },
    {
      "cell_type": "code",
      "source": [
        "import torch\n",
        "import torch.nn as nn\n",
        "\n",
        "class SqueezeExcitation(nn.Module):\n",
        "  def __init__(self, input_channels, squeeze_channels):\n",
        "    super().__init__()\n",
        "\n",
        "    # This is the squeeze part\n",
        "    # It is a Global Average Pooling GAP layer\n",
        "    self.squeeze = torch.nn.AdaptiveAvgPool2d(1)\n",
        "\n",
        "    # This is the exitation part\n",
        "    # This is a perceptron with two hidden layers and with a ReLU in between\n",
        "    self.excitation = nn.Sequential(\n",
        "        nn.Flatten(),\n",
        "        nn.Linear(input_channels, squeeze_channels),\n",
        "        nn.ReLU(),\n",
        "        nn.Linear(squeeze_channels, input_channels),\n",
        "        nn.Sigmoid()  # Squeezes the weights between 0 and 1\n",
        "    )\n",
        "\n",
        "  # In the forward part of this network\n",
        "  # We first squeeze\n",
        "  def forward(self,x):\n",
        "    out = self.squeeze(x)\n",
        "    # This is the excitation part\n",
        "    scale = self.excitation(out).unsqueeze(-1).unsqueeze(-1)\n",
        "    # Then we multiply the scaling factors by the input to boost or reduce\n",
        "    # the importance of the input feature maps\n",
        "    out = scale * x\n",
        "    return out\n"
      ],
      "metadata": {
        "id": "MKchoix8eS7y"
      },
      "execution_count": 15,
      "outputs": []
    },
    {
      "cell_type": "markdown",
      "source": [
        "Getting a Pre-Trained Model with Torchvision"
      ],
      "metadata": {
        "id": "Mbe4YYnFLOlm"
      }
    },
    {
      "cell_type": "code",
      "source": [
        "import torchvision.models"
      ],
      "metadata": {
        "id": "FQgQyfbvnAtX"
      },
      "execution_count": 16,
      "outputs": []
    },
    {
      "cell_type": "code",
      "source": [
        "model = torchvision.models.resnet18(pretrained=True)\n",
        "# If we set pretrained = Flase we get the model initialized with the default\n",
        "# initialization, ready to be trained from scratch"
      ],
      "metadata": {
        "colab": {
          "base_uri": "https://localhost:8080/"
        },
        "id": "MTkonS-bLkpW",
        "outputId": "78e14455-8644-439a-9909-cad583f9c528"
      },
      "execution_count": 17,
      "outputs": [
        {
          "output_type": "stream",
          "name": "stderr",
          "text": [
            "/usr/local/lib/python3.10/dist-packages/torchvision/models/_utils.py:208: UserWarning: The parameter 'pretrained' is deprecated since 0.13 and may be removed in the future, please use 'weights' instead.\n",
            "  warnings.warn(\n",
            "/usr/local/lib/python3.10/dist-packages/torchvision/models/_utils.py:223: UserWarning: Arguments other than a weight enum or `None` for 'weights' are deprecated since 0.13 and may be removed in the future. The current behavior is equivalent to passing `weights=ResNet18_Weights.IMAGENET1K_V1`. You can also use `weights=ResNet18_Weights.DEFAULT` to get the most up-to-date weights.\n",
            "  warnings.warn(msg)\n"
          ]
        }
      ]
    },
    {
      "cell_type": "code",
      "source": [
        "print(model)"
      ],
      "metadata": {
        "colab": {
          "base_uri": "https://localhost:8080/"
        },
        "id": "8vDyUJspL0sS",
        "outputId": "509e7322-47c8-4a4c-8a8e-06aa7d6e3e02"
      },
      "execution_count": 18,
      "outputs": [
        {
          "output_type": "stream",
          "name": "stdout",
          "text": [
            "ResNet(\n",
            "  (conv1): Conv2d(3, 64, kernel_size=(7, 7), stride=(2, 2), padding=(3, 3), bias=False)\n",
            "  (bn1): BatchNorm2d(64, eps=1e-05, momentum=0.1, affine=True, track_running_stats=True)\n",
            "  (relu): ReLU(inplace=True)\n",
            "  (maxpool): MaxPool2d(kernel_size=3, stride=2, padding=1, dilation=1, ceil_mode=False)\n",
            "  (layer1): Sequential(\n",
            "    (0): BasicBlock(\n",
            "      (conv1): Conv2d(64, 64, kernel_size=(3, 3), stride=(1, 1), padding=(1, 1), bias=False)\n",
            "      (bn1): BatchNorm2d(64, eps=1e-05, momentum=0.1, affine=True, track_running_stats=True)\n",
            "      (relu): ReLU(inplace=True)\n",
            "      (conv2): Conv2d(64, 64, kernel_size=(3, 3), stride=(1, 1), padding=(1, 1), bias=False)\n",
            "      (bn2): BatchNorm2d(64, eps=1e-05, momentum=0.1, affine=True, track_running_stats=True)\n",
            "    )\n",
            "    (1): BasicBlock(\n",
            "      (conv1): Conv2d(64, 64, kernel_size=(3, 3), stride=(1, 1), padding=(1, 1), bias=False)\n",
            "      (bn1): BatchNorm2d(64, eps=1e-05, momentum=0.1, affine=True, track_running_stats=True)\n",
            "      (relu): ReLU(inplace=True)\n",
            "      (conv2): Conv2d(64, 64, kernel_size=(3, 3), stride=(1, 1), padding=(1, 1), bias=False)\n",
            "      (bn2): BatchNorm2d(64, eps=1e-05, momentum=0.1, affine=True, track_running_stats=True)\n",
            "    )\n",
            "  )\n",
            "  (layer2): Sequential(\n",
            "    (0): BasicBlock(\n",
            "      (conv1): Conv2d(64, 128, kernel_size=(3, 3), stride=(2, 2), padding=(1, 1), bias=False)\n",
            "      (bn1): BatchNorm2d(128, eps=1e-05, momentum=0.1, affine=True, track_running_stats=True)\n",
            "      (relu): ReLU(inplace=True)\n",
            "      (conv2): Conv2d(128, 128, kernel_size=(3, 3), stride=(1, 1), padding=(1, 1), bias=False)\n",
            "      (bn2): BatchNorm2d(128, eps=1e-05, momentum=0.1, affine=True, track_running_stats=True)\n",
            "      (downsample): Sequential(\n",
            "        (0): Conv2d(64, 128, kernel_size=(1, 1), stride=(2, 2), bias=False)\n",
            "        (1): BatchNorm2d(128, eps=1e-05, momentum=0.1, affine=True, track_running_stats=True)\n",
            "      )\n",
            "    )\n",
            "    (1): BasicBlock(\n",
            "      (conv1): Conv2d(128, 128, kernel_size=(3, 3), stride=(1, 1), padding=(1, 1), bias=False)\n",
            "      (bn1): BatchNorm2d(128, eps=1e-05, momentum=0.1, affine=True, track_running_stats=True)\n",
            "      (relu): ReLU(inplace=True)\n",
            "      (conv2): Conv2d(128, 128, kernel_size=(3, 3), stride=(1, 1), padding=(1, 1), bias=False)\n",
            "      (bn2): BatchNorm2d(128, eps=1e-05, momentum=0.1, affine=True, track_running_stats=True)\n",
            "    )\n",
            "  )\n",
            "  (layer3): Sequential(\n",
            "    (0): BasicBlock(\n",
            "      (conv1): Conv2d(128, 256, kernel_size=(3, 3), stride=(2, 2), padding=(1, 1), bias=False)\n",
            "      (bn1): BatchNorm2d(256, eps=1e-05, momentum=0.1, affine=True, track_running_stats=True)\n",
            "      (relu): ReLU(inplace=True)\n",
            "      (conv2): Conv2d(256, 256, kernel_size=(3, 3), stride=(1, 1), padding=(1, 1), bias=False)\n",
            "      (bn2): BatchNorm2d(256, eps=1e-05, momentum=0.1, affine=True, track_running_stats=True)\n",
            "      (downsample): Sequential(\n",
            "        (0): Conv2d(128, 256, kernel_size=(1, 1), stride=(2, 2), bias=False)\n",
            "        (1): BatchNorm2d(256, eps=1e-05, momentum=0.1, affine=True, track_running_stats=True)\n",
            "      )\n",
            "    )\n",
            "    (1): BasicBlock(\n",
            "      (conv1): Conv2d(256, 256, kernel_size=(3, 3), stride=(1, 1), padding=(1, 1), bias=False)\n",
            "      (bn1): BatchNorm2d(256, eps=1e-05, momentum=0.1, affine=True, track_running_stats=True)\n",
            "      (relu): ReLU(inplace=True)\n",
            "      (conv2): Conv2d(256, 256, kernel_size=(3, 3), stride=(1, 1), padding=(1, 1), bias=False)\n",
            "      (bn2): BatchNorm2d(256, eps=1e-05, momentum=0.1, affine=True, track_running_stats=True)\n",
            "    )\n",
            "  )\n",
            "  (layer4): Sequential(\n",
            "    (0): BasicBlock(\n",
            "      (conv1): Conv2d(256, 512, kernel_size=(3, 3), stride=(2, 2), padding=(1, 1), bias=False)\n",
            "      (bn1): BatchNorm2d(512, eps=1e-05, momentum=0.1, affine=True, track_running_stats=True)\n",
            "      (relu): ReLU(inplace=True)\n",
            "      (conv2): Conv2d(512, 512, kernel_size=(3, 3), stride=(1, 1), padding=(1, 1), bias=False)\n",
            "      (bn2): BatchNorm2d(512, eps=1e-05, momentum=0.1, affine=True, track_running_stats=True)\n",
            "      (downsample): Sequential(\n",
            "        (0): Conv2d(256, 512, kernel_size=(1, 1), stride=(2, 2), bias=False)\n",
            "        (1): BatchNorm2d(512, eps=1e-05, momentum=0.1, affine=True, track_running_stats=True)\n",
            "      )\n",
            "    )\n",
            "    (1): BasicBlock(\n",
            "      (conv1): Conv2d(512, 512, kernel_size=(3, 3), stride=(1, 1), padding=(1, 1), bias=False)\n",
            "      (bn1): BatchNorm2d(512, eps=1e-05, momentum=0.1, affine=True, track_running_stats=True)\n",
            "      (relu): ReLU(inplace=True)\n",
            "      (conv2): Conv2d(512, 512, kernel_size=(3, 3), stride=(1, 1), padding=(1, 1), bias=False)\n",
            "      (bn2): BatchNorm2d(512, eps=1e-05, momentum=0.1, affine=True, track_running_stats=True)\n",
            "    )\n",
            "  )\n",
            "  (avgpool): AdaptiveAvgPool2d(output_size=(1, 1))\n",
            "  (fc): Linear(in_features=512, out_features=1000, bias=True)\n",
            ")\n"
          ]
        }
      ]
    },
    {
      "cell_type": "code",
      "source": [
        "# A frozen parameter is a parameter that is not allowed to vary duting training.\n",
        "# In other words, backporpagation will ignore that parameter and won't change\n",
        "# its value nor compute the gradient of the loss with respect to that parameter\n",
        "\n",
        "for param in model.parameters():\n",
        "  param.requires_grad = False"
      ],
      "metadata": {
        "id": "wYN7i3WBL6sV"
      },
      "execution_count": 19,
      "outputs": []
    },
    {
      "cell_type": "code",
      "source": [
        "# We can also freeze the parameters of a single layer.\n",
        "# For example let's think this layer is fc\n",
        "\n",
        "for param in model.fc.parameters():\n",
        "  param.requires_grad = False"
      ],
      "metadata": {
        "id": "sq4vmIL1N7s_"
      },
      "execution_count": 20,
      "outputs": []
    },
    {
      "cell_type": "code",
      "source": [
        "# We can also thaw (defrost) parameters that are frozen by setting\n",
        "# requires_grad = True"
      ],
      "metadata": {
        "id": "K1E5p_2tOcYq"
      },
      "execution_count": 21,
      "outputs": []
    },
    {
      "cell_type": "code",
      "source": [
        "# The BatchNorm layer is a special case: it has two parameters (gamma and bete)\n",
        "# But it has two buffers that are used to accumilate the mean and\n",
        "# the standard deviation of the dataset during training. if we use\n",
        "# requires_grad = False, then we are only fixing beta and gamma\n",
        "# If we also to freeze the statistics accumilated, we need to put\n",
        "# the entire layer in evaluation mode as follows\n",
        "\n",
        "model.bn1.eval() # Apply this and see whether it improves the performance\n",
        "\n",
        "# Note that this is different form model.eval()\n",
        "\n"
      ],
      "metadata": {
        "colab": {
          "base_uri": "https://localhost:8080/"
        },
        "id": "aC9Szu-9Qr6l",
        "outputId": "c314a56e-f1c0-4671-8f7f-8cdd058156e5"
      },
      "execution_count": 22,
      "outputs": [
        {
          "output_type": "execute_result",
          "data": {
            "text/plain": [
              "BatchNorm2d(64, eps=1e-05, momentum=0.1, affine=True, track_running_stats=True)"
            ]
          },
          "metadata": {},
          "execution_count": 22
        }
      ]
    },
    {
      "cell_type": "code",
      "source": [
        "# We can invert this operation by putting the BatchNorm layer\n",
        "# back into training mode\n",
        "\n",
        "model.bn1.train()"
      ],
      "metadata": {
        "colab": {
          "base_uri": "https://localhost:8080/"
        },
        "id": "LaKa5_P-SzUm",
        "outputId": "087a729e-5bbd-419f-cced-cc4d2895bb93"
      },
      "execution_count": 23,
      "outputs": [
        {
          "output_type": "execute_result",
          "data": {
            "text/plain": [
              "BatchNorm2d(64, eps=1e-05, momentum=0.1, affine=True, track_running_stats=True)"
            ]
          },
          "metadata": {},
          "execution_count": 23
        }
      ]
    },
    {
      "cell_type": "code",
      "source": [
        "# The use of print(model) is not recommended\n",
        "# What is recommended is export the model and visualize it with Netron"
      ],
      "metadata": {
        "id": "KxsNOv_oUmbi"
      },
      "execution_count": 24,
      "outputs": []
    },
    {
      "cell_type": "code",
      "source": [
        "# We don't need to install anything locally\n",
        "# Fake image needed for torch.jit.trace\n",
        "# (adjust the size of the image from 224x224 to what the network\n",
        "# expects if needed)\n",
        "\n",
        "random_image = torch.rand((1,3, 224, 224))\n",
        "\n",
        "scripted = torch.jit.trace(model, random_image)\n",
        "torch.jit.save(scripted, 'my_network.pt')"
      ],
      "metadata": {
        "id": "0XWkexyBWGeA"
      },
      "execution_count": 25,
      "outputs": []
    },
    {
      "cell_type": "code",
      "source": [
        "# If we want to freeze the parameters of the last layer which is fc\n",
        "# We can do the following\n",
        "\n",
        "for param in model.fc.parameters():\n",
        "  param.requires_grad = False"
      ],
      "metadata": {
        "id": "fOOOmo9CXQ4z"
      },
      "execution_count": 26,
      "outputs": []
    },
    {
      "cell_type": "markdown",
      "source": [
        "# If we have 1,000 images (a small dataset) and a classification task with 10 classes, this is what we can do."
      ],
      "metadata": {
        "id": "7yrcRUTpzVF4"
      }
    },
    {
      "cell_type": "code",
      "source": [
        "import torch.nn as nn\n",
        "import torchvision.models\n",
        "\n",
        "## Get a pre-trained model from torchvision,\n",
        "# for example ResNet18\n",
        "model = torchvision.models.resnet18(pretrained=True)\n",
        "\n",
        "# Let's freeze all the parameters in the pre-trained network\n",
        "for param in model.parameters():\n",
        "  param.requires_grad = False\n",
        "\n",
        "# Through Netron.app we discovered that the last layer is called\n",
        "# \"fc\" (for \"fully connected\")\n",
        "# Let's find out how many input features it has\n",
        "random_image = torch.rand((1,3, 224, 224))\n",
        "scripted = torch.jit.trace(model, random_image)\n",
        "torch.jit.save(scripted, 'my_network_01.pt')\n",
        " # There are 512 input features\n",
        "\n",
        "input_features = model.fc.in_features\n",
        ""
      ],
      "metadata": {
        "colab": {
          "base_uri": "https://localhost:8080/"
        },
        "id": "aXhHEUUcbkqb",
        "outputId": "97d5ef88-173b-490c-a5a5-df52215ed2e7"
      },
      "execution_count": 30,
      "outputs": [
        {
          "output_type": "stream",
          "name": "stdout",
          "text": [
            "512\n"
          ]
        }
      ]
    },
    {
      "cell_type": "code",
      "source": [
        "# We have 10 classes\n",
        "n_classes = 10\n"
      ],
      "metadata": {
        "id": "7_SXSLNa0_R1"
      },
      "execution_count": null,
      "outputs": []
    }
  ]
}