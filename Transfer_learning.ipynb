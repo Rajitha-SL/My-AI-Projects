{
  "nbformat": 4,
  "nbformat_minor": 0,
  "metadata": {
    "colab": {
      "provenance": [],
      "authorship_tag": "ABX9TyP7Ao3CUXKs22Ifpdz6uN2B",
      "include_colab_link": true
    },
    "kernelspec": {
      "name": "python3",
      "display_name": "Python 3"
    },
    "language_info": {
      "name": "python"
    }
  },
  "cells": [
    {
      "cell_type": "markdown",
      "metadata": {
        "id": "view-in-github",
        "colab_type": "text"
      },
      "source": [
        "<a href=\"https://colab.research.google.com/github/Rajitha-SL/My-AI-Projects/blob/AI-and-ML-learning/Transfer_learning.ipynb\" target=\"_parent\"><img src=\"https://colab.research.google.com/assets/colab-badge.svg\" alt=\"Open In Colab\"/></a>"
      ]
    },
    {
      "cell_type": "code",
      "execution_count": null,
      "metadata": {
        "id": "04B8PovsMf5s"
      },
      "outputs": [],
      "source": []
    },
    {
      "cell_type": "markdown",
      "source": [
        "Define a ResNet block in PyTorch"
      ],
      "metadata": {
        "id": "QuF4Da6SMshr"
      }
    },
    {
      "cell_type": "code",
      "source": [
        "import torch\n",
        "import torch.nn as nn\n",
        "\n",
        "class ResidualBlock(nn.Module):\n",
        "  def __init__(self):\n",
        "    super().__init__()\n",
        "\n",
        "    # We are defining a mini network\n",
        "    # that is made of two standard convolutional layers\n",
        "    # with the relu in-between\n",
        "    self.conv_block = nn.Sequential(\n",
        "        nn.Conv2d(inp, out1, 3),\n",
        "        nn.ReLU(),\n",
        "        nn.Conv2d(out1, out2, 3)\n",
        "        # Note that after the second layer\n",
        "        # there is no activation\n",
        "    )\n",
        "\n",
        "    self.relu = nn.ReLU()\n",
        "\n",
        "  def forward(self, x):\n",
        "    # F(x)\n",
        "    F = self.conv_block(x)\n",
        "    # Before we apply the second activation\n",
        "    # we add back the input x\n",
        "    # This is the implementation of the skip connection\n",
        "    H = F + x\n",
        "    return self.relu(H)\n"
      ],
      "metadata": {
        "id": "DNYcNKrRM1Od"
      },
      "execution_count": null,
      "outputs": []
    },
    {
      "cell_type": "markdown",
      "source": [
        "We can see above that if the optimizer puts all the convolutional filters to 0, then F will be 0 and H will be equal to x\n",
        "\n",
        "Then the block will become the identity function."
      ],
      "metadata": {
        "id": "BMLUxI2OXsGU"
      }
    },
    {
      "cell_type": "markdown",
      "source": [
        "# Following is how we use squeeze and execitation block in PyTorch\n"
      ],
      "metadata": {
        "id": "QD3nPPh6d1f-"
      }
    },
    {
      "cell_type": "code",
      "source": [
        "import torch\n",
        "import torch.nn as nn\n",
        "\n",
        "class SqueezeExcitation(nn.Module):\n",
        "  def __init__(self, input_channels, squeeze_channels):\n",
        "    super().__init__()\n",
        "\n",
        "    # This is the squeeze part\n",
        "    # It is a Global Average Pooling GAP layer\n",
        "    self.squeeze = torch.nn.AdaptiveAvgPool2d(1)\n",
        "\n",
        "    # This is the exitation part\n",
        "    # This is a perceptron with two hidden layers and with a ReLU in between\n",
        "    self.excitation = nn.Sequential(\n",
        "        nn.Flatten(),\n",
        "        nn.Linear(input_channels, squeeze_channels),\n",
        "        nn.ReLU(),\n",
        "        nn.Linear(squeeze_channels, input_channels),\n",
        "        nn.Sigmoid()  # Squeezes the weights between 0 and 1\n",
        "    )\n",
        "\n",
        "  # In the forward part of this network\n",
        "  # We first squeeze\n",
        "  def forward(self,x):\n",
        "    out = self.squeeze(x)\n",
        "    # This is the excitation part\n",
        "    scale = self.excitation(out).unsqueeze(-1).unsqueeze(-1)\n",
        "    # Then we multiply the scaling factors by the input to boost or reduce\n",
        "    # the importance of the input feature maps\n",
        "    out = scale * x\n",
        "    return out\n"
      ],
      "metadata": {
        "id": "MKchoix8eS7y"
      },
      "execution_count": null,
      "outputs": []
    },
    {
      "cell_type": "markdown",
      "source": [
        "Getting a Pre-Trained Model with Torchvision"
      ],
      "metadata": {
        "id": "Mbe4YYnFLOlm"
      }
    },
    {
      "cell_type": "code",
      "source": [
        "import torchvision.models"
      ],
      "metadata": {
        "id": "FQgQyfbvnAtX"
      },
      "execution_count": 1,
      "outputs": []
    },
    {
      "cell_type": "code",
      "source": [
        "model = torchvision.models.resnet18(pretrained=True)\n",
        "# If we set pretrained = Flase we get the model initialized with the default\n",
        "# initialization, ready to be trained from scratch"
      ],
      "metadata": {
        "id": "MTkonS-bLkpW",
        "outputId": "a56cc8e6-68e4-46d8-9fdf-499ddb5613ba",
        "colab": {
          "base_uri": "https://localhost:8080/"
        }
      },
      "execution_count": 4,
      "outputs": [
        {
          "output_type": "stream",
          "name": "stderr",
          "text": [
            "/usr/local/lib/python3.10/dist-packages/torchvision/models/_utils.py:208: UserWarning: The parameter 'pretrained' is deprecated since 0.13 and may be removed in the future, please use 'weights' instead.\n",
            "  warnings.warn(\n",
            "/usr/local/lib/python3.10/dist-packages/torchvision/models/_utils.py:223: UserWarning: Arguments other than a weight enum or `None` for 'weights' are deprecated since 0.13 and may be removed in the future. The current behavior is equivalent to passing `weights=ResNet18_Weights.IMAGENET1K_V1`. You can also use `weights=ResNet18_Weights.DEFAULT` to get the most up-to-date weights.\n",
            "  warnings.warn(msg)\n"
          ]
        }
      ]
    },
    {
      "cell_type": "code",
      "source": [
        "print(model)"
      ],
      "metadata": {
        "id": "8vDyUJspL0sS",
        "outputId": "65c83e6e-60be-4c77-b22d-215a9aba9426",
        "colab": {
          "base_uri": "https://localhost:8080/"
        }
      },
      "execution_count": 3,
      "outputs": [
        {
          "output_type": "stream",
          "name": "stdout",
          "text": [
            "ResNet(\n",
            "  (conv1): Conv2d(3, 64, kernel_size=(7, 7), stride=(2, 2), padding=(3, 3), bias=False)\n",
            "  (bn1): BatchNorm2d(64, eps=1e-05, momentum=0.1, affine=True, track_running_stats=True)\n",
            "  (relu): ReLU(inplace=True)\n",
            "  (maxpool): MaxPool2d(kernel_size=3, stride=2, padding=1, dilation=1, ceil_mode=False)\n",
            "  (layer1): Sequential(\n",
            "    (0): BasicBlock(\n",
            "      (conv1): Conv2d(64, 64, kernel_size=(3, 3), stride=(1, 1), padding=(1, 1), bias=False)\n",
            "      (bn1): BatchNorm2d(64, eps=1e-05, momentum=0.1, affine=True, track_running_stats=True)\n",
            "      (relu): ReLU(inplace=True)\n",
            "      (conv2): Conv2d(64, 64, kernel_size=(3, 3), stride=(1, 1), padding=(1, 1), bias=False)\n",
            "      (bn2): BatchNorm2d(64, eps=1e-05, momentum=0.1, affine=True, track_running_stats=True)\n",
            "    )\n",
            "    (1): BasicBlock(\n",
            "      (conv1): Conv2d(64, 64, kernel_size=(3, 3), stride=(1, 1), padding=(1, 1), bias=False)\n",
            "      (bn1): BatchNorm2d(64, eps=1e-05, momentum=0.1, affine=True, track_running_stats=True)\n",
            "      (relu): ReLU(inplace=True)\n",
            "      (conv2): Conv2d(64, 64, kernel_size=(3, 3), stride=(1, 1), padding=(1, 1), bias=False)\n",
            "      (bn2): BatchNorm2d(64, eps=1e-05, momentum=0.1, affine=True, track_running_stats=True)\n",
            "    )\n",
            "  )\n",
            "  (layer2): Sequential(\n",
            "    (0): BasicBlock(\n",
            "      (conv1): Conv2d(64, 128, kernel_size=(3, 3), stride=(2, 2), padding=(1, 1), bias=False)\n",
            "      (bn1): BatchNorm2d(128, eps=1e-05, momentum=0.1, affine=True, track_running_stats=True)\n",
            "      (relu): ReLU(inplace=True)\n",
            "      (conv2): Conv2d(128, 128, kernel_size=(3, 3), stride=(1, 1), padding=(1, 1), bias=False)\n",
            "      (bn2): BatchNorm2d(128, eps=1e-05, momentum=0.1, affine=True, track_running_stats=True)\n",
            "      (downsample): Sequential(\n",
            "        (0): Conv2d(64, 128, kernel_size=(1, 1), stride=(2, 2), bias=False)\n",
            "        (1): BatchNorm2d(128, eps=1e-05, momentum=0.1, affine=True, track_running_stats=True)\n",
            "      )\n",
            "    )\n",
            "    (1): BasicBlock(\n",
            "      (conv1): Conv2d(128, 128, kernel_size=(3, 3), stride=(1, 1), padding=(1, 1), bias=False)\n",
            "      (bn1): BatchNorm2d(128, eps=1e-05, momentum=0.1, affine=True, track_running_stats=True)\n",
            "      (relu): ReLU(inplace=True)\n",
            "      (conv2): Conv2d(128, 128, kernel_size=(3, 3), stride=(1, 1), padding=(1, 1), bias=False)\n",
            "      (bn2): BatchNorm2d(128, eps=1e-05, momentum=0.1, affine=True, track_running_stats=True)\n",
            "    )\n",
            "  )\n",
            "  (layer3): Sequential(\n",
            "    (0): BasicBlock(\n",
            "      (conv1): Conv2d(128, 256, kernel_size=(3, 3), stride=(2, 2), padding=(1, 1), bias=False)\n",
            "      (bn1): BatchNorm2d(256, eps=1e-05, momentum=0.1, affine=True, track_running_stats=True)\n",
            "      (relu): ReLU(inplace=True)\n",
            "      (conv2): Conv2d(256, 256, kernel_size=(3, 3), stride=(1, 1), padding=(1, 1), bias=False)\n",
            "      (bn2): BatchNorm2d(256, eps=1e-05, momentum=0.1, affine=True, track_running_stats=True)\n",
            "      (downsample): Sequential(\n",
            "        (0): Conv2d(128, 256, kernel_size=(1, 1), stride=(2, 2), bias=False)\n",
            "        (1): BatchNorm2d(256, eps=1e-05, momentum=0.1, affine=True, track_running_stats=True)\n",
            "      )\n",
            "    )\n",
            "    (1): BasicBlock(\n",
            "      (conv1): Conv2d(256, 256, kernel_size=(3, 3), stride=(1, 1), padding=(1, 1), bias=False)\n",
            "      (bn1): BatchNorm2d(256, eps=1e-05, momentum=0.1, affine=True, track_running_stats=True)\n",
            "      (relu): ReLU(inplace=True)\n",
            "      (conv2): Conv2d(256, 256, kernel_size=(3, 3), stride=(1, 1), padding=(1, 1), bias=False)\n",
            "      (bn2): BatchNorm2d(256, eps=1e-05, momentum=0.1, affine=True, track_running_stats=True)\n",
            "    )\n",
            "  )\n",
            "  (layer4): Sequential(\n",
            "    (0): BasicBlock(\n",
            "      (conv1): Conv2d(256, 512, kernel_size=(3, 3), stride=(2, 2), padding=(1, 1), bias=False)\n",
            "      (bn1): BatchNorm2d(512, eps=1e-05, momentum=0.1, affine=True, track_running_stats=True)\n",
            "      (relu): ReLU(inplace=True)\n",
            "      (conv2): Conv2d(512, 512, kernel_size=(3, 3), stride=(1, 1), padding=(1, 1), bias=False)\n",
            "      (bn2): BatchNorm2d(512, eps=1e-05, momentum=0.1, affine=True, track_running_stats=True)\n",
            "      (downsample): Sequential(\n",
            "        (0): Conv2d(256, 512, kernel_size=(1, 1), stride=(2, 2), bias=False)\n",
            "        (1): BatchNorm2d(512, eps=1e-05, momentum=0.1, affine=True, track_running_stats=True)\n",
            "      )\n",
            "    )\n",
            "    (1): BasicBlock(\n",
            "      (conv1): Conv2d(512, 512, kernel_size=(3, 3), stride=(1, 1), padding=(1, 1), bias=False)\n",
            "      (bn1): BatchNorm2d(512, eps=1e-05, momentum=0.1, affine=True, track_running_stats=True)\n",
            "      (relu): ReLU(inplace=True)\n",
            "      (conv2): Conv2d(512, 512, kernel_size=(3, 3), stride=(1, 1), padding=(1, 1), bias=False)\n",
            "      (bn2): BatchNorm2d(512, eps=1e-05, momentum=0.1, affine=True, track_running_stats=True)\n",
            "    )\n",
            "  )\n",
            "  (avgpool): AdaptiveAvgPool2d(output_size=(1, 1))\n",
            "  (fc): Linear(in_features=512, out_features=1000, bias=True)\n",
            ")\n"
          ]
        }
      ]
    },
    {
      "cell_type": "code",
      "source": [
        "# A frozen parameter is a parameter that is not allowed to vary duting training.\n",
        "# In other words, backporpagation will ignore that parameter and won't change\n",
        "# its value nor compute the gradient of the loss with respect to that parameter\n",
        "\n",
        "for param in model.parameters():\n",
        "  param.requires_grad = False"
      ],
      "metadata": {
        "id": "wYN7i3WBL6sV"
      },
      "execution_count": 5,
      "outputs": []
    },
    {
      "cell_type": "code",
      "source": [
        "# We can also freeze the parameters of a single layer.\n",
        "# For example let's think this layer is fc\n",
        "\n",
        "for param in model.fc.parameters():\n",
        "  param.requires_grad = False"
      ],
      "metadata": {
        "id": "sq4vmIL1N7s_"
      },
      "execution_count": 6,
      "outputs": []
    },
    {
      "cell_type": "code",
      "source": [
        "# We can also thaw (defrost) parameters that are frozen by setting\n",
        "# requires_grad = True"
      ],
      "metadata": {
        "id": "K1E5p_2tOcYq"
      },
      "execution_count": 7,
      "outputs": []
    },
    {
      "cell_type": "code",
      "source": [
        "# The BatchNorm layer is a special case: it has two parameters (gamma and bete)\n",
        "# But it has two buffers that are used to accumilate the mean and\n",
        "# the standard deviation of the dataset during training. if we use\n",
        "# requires_grad = False, then we are only fixing beta and gamma\n",
        "# If we also to freeze the statistics accumilated, we need to put\n",
        "# the entire layer in evaluation mode as follows\n",
        "\n",
        "model.bn1.eval() # Apply this and see whether it improves the performance\n",
        "\n",
        "# Note that this is different form model.eval()\n",
        "\n"
      ],
      "metadata": {
        "id": "aC9Szu-9Qr6l",
        "outputId": "3dc42569-11d4-4a46-a557-72dd88f3aa1a",
        "colab": {
          "base_uri": "https://localhost:8080/"
        }
      },
      "execution_count": 10,
      "outputs": [
        {
          "output_type": "execute_result",
          "data": {
            "text/plain": [
              "BatchNorm2d(64, eps=1e-05, momentum=0.1, affine=True, track_running_stats=True)"
            ]
          },
          "metadata": {},
          "execution_count": 10
        }
      ]
    },
    {
      "cell_type": "code",
      "source": [
        "# We can invert this operation by putting the BatchNorm layer\n",
        "# back into training mode\n",
        "\n",
        "model.bn1.train()"
      ],
      "metadata": {
        "id": "LaKa5_P-SzUm",
        "outputId": "d2f0194e-a190-42ed-8c7a-03af2479aa94",
        "colab": {
          "base_uri": "https://localhost:8080/"
        }
      },
      "execution_count": 11,
      "outputs": [
        {
          "output_type": "execute_result",
          "data": {
            "text/plain": [
              "BatchNorm2d(64, eps=1e-05, momentum=0.1, affine=True, track_running_stats=True)"
            ]
          },
          "metadata": {},
          "execution_count": 11
        }
      ]
    },
    {
      "cell_type": "code",
      "source": [
        "# The use of print(model) is not recommended\n",
        "#"
      ],
      "metadata": {
        "id": "KxsNOv_oUmbi"
      },
      "execution_count": null,
      "outputs": []
    }
  ]
}