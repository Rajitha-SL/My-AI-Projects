{
  "nbformat": 4,
  "nbformat_minor": 0,
  "metadata": {
    "colab": {
      "provenance": [],
      "authorship_tag": "ABX9TyM25EYfPLkZQc1TCmfcTphJ",
      "include_colab_link": true
    },
    "kernelspec": {
      "name": "python3",
      "display_name": "Python 3"
    },
    "language_info": {
      "name": "python"
    }
  },
  "cells": [
    {
      "cell_type": "markdown",
      "metadata": {
        "id": "view-in-github",
        "colab_type": "text"
      },
      "source": [
        "<a href=\"https://colab.research.google.com/github/Rajitha-SL/My-AI-Projects/blob/main/CNN_Example.ipynb\" target=\"_parent\"><img src=\"https://colab.research.google.com/assets/colab-badge.svg\" alt=\"Open In Colab\"/></a>"
      ]
    },
    {
      "cell_type": "code",
      "execution_count": 1,
      "metadata": {
        "id": "rAHzRJn3DF5z"
      },
      "outputs": [],
      "source": [
        "# To create a converlutional layer we must first import the necessary modules\n",
        "from torch import nn"
      ]
    },
    {
      "cell_type": "code",
      "source": [
        "# Then we can define a converlutional layer as follows\n",
        "\n",
        "#### conv1 = nn.Conv2d(in_channels, out_channels, kernal_size)\n",
        "'''in_channels = Number of input feature channels\n",
        "1 for grayscale image and 3 for RGB image\n",
        "or output of the previouse Converlutional layer\n",
        "out_channels = number of output feature maps or channels\n",
        "kernal_size = height and width of the converlutional kernal\n",
        "Pytorch doesn't inclued an activation function we need to add seperately\n",
        "But in libraries such as Keras it is different'''"
      ],
      "metadata": {
        "colab": {
          "base_uri": "https://localhost:8080/",
          "height": 70
        },
        "id": "30NwNkX3ELQz",
        "outputId": "4c1edb52-2af6-4022-e6f5-e6f8e0df3f83"
      },
      "execution_count": 5,
      "outputs": [
        {
          "output_type": "execute_result",
          "data": {
            "text/plain": [
              "\"in_channels = Number of input feature channels\\n1 for grayscale image and 3 for RGB image \\nor output of the previouse Converlutional layer\\nout_channels = number of output feature maps or channels\\nkernal_size = height and width of the converlutional kernal \\nPytorch doesn't inclued an activation function we need to add seperately\\nBut in libraries such as Keras it is different\""
            ],
            "application/vnd.google.colaboratory.intrinsic+json": {
              "type": "string"
            }
          },
          "metadata": {},
          "execution_count": 5
        }
      ]
    },
    {
      "cell_type": "code",
      "source": [],
      "metadata": {
        "id": "C44zr1dYFrUX"
      },
      "execution_count": null,
      "outputs": []
    }
  ]
}