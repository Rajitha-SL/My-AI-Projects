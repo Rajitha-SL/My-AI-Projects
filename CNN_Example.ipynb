{
  "nbformat": 4,
  "nbformat_minor": 0,
  "metadata": {
    "colab": {
      "provenance": [],
      "authorship_tag": "ABX9TyOtdwQG1tywM9spsVkvyCs9",
      "include_colab_link": true
    },
    "kernelspec": {
      "name": "python3",
      "display_name": "Python 3"
    },
    "language_info": {
      "name": "python"
    }
  },
  "cells": [
    {
      "cell_type": "markdown",
      "metadata": {
        "id": "view-in-github",
        "colab_type": "text"
      },
      "source": [
        "<a href=\"https://colab.research.google.com/github/Rajitha-SL/My-AI-Projects/blob/main/CNN_Example.ipynb\" target=\"_parent\"><img src=\"https://colab.research.google.com/assets/colab-badge.svg\" alt=\"Open In Colab\"/></a>"
      ]
    },
    {
      "cell_type": "code",
      "execution_count": 1,
      "metadata": {
        "id": "rAHzRJn3DF5z"
      },
      "outputs": [],
      "source": [
        "# To create a converlutional layer we must first import the necessary modules\n",
        "from torch import nn"
      ]
    },
    {
      "cell_type": "code",
      "source": [
        "# Then we can define a converlutional layer as follows\n",
        "\n",
        "#### conv1 = nn.Conv2d(in_channels, out_channels, kernal_size)\n",
        "'''in_channels = Number of input feature channels\n",
        "1 for grayscale image and 3 for RGB image\n",
        "or output of the previouse Converlutional layer\n",
        "out_channels = number of output feature maps or channels\n",
        "kernal_size = height and width of the converlutional kernal\n",
        "Pytorch doesn't inclued an activation function we need to add seperately\n",
        "But in libraries such as Keras it is different'''"
      ],
      "metadata": {
        "colab": {
          "base_uri": "https://localhost:8080/",
          "height": 70
        },
        "id": "30NwNkX3ELQz",
        "outputId": "4c1edb52-2af6-4022-e6f5-e6f8e0df3f83"
      },
      "execution_count": 5,
      "outputs": [
        {
          "output_type": "execute_result",
          "data": {
            "text/plain": [
              "\"in_channels = Number of input feature channels\\n1 for grayscale image and 3 for RGB image \\nor output of the previouse Converlutional layer\\nout_channels = number of output feature maps or channels\\nkernal_size = height and width of the converlutional kernal \\nPytorch doesn't inclued an activation function we need to add seperately\\nBut in libraries such as Keras it is different\""
            ],
            "application/vnd.google.colaboratory.intrinsic+json": {
              "type": "string"
            }
          },
          "metadata": {},
          "execution_count": 5
        }
      ]
    },
    {
      "cell_type": "markdown",
      "source": [
        "Activation function has to be added seperately and also the Dropout.\n",
        "\n",
        "Dropout is a very effective regularizer for the Neural Network which randomly drops some input channels"
      ],
      "metadata": {
        "id": "-BFvgnWhOTEk"
      }
    },
    {
      "cell_type": "code",
      "source": [
        "# Here is an example of a converlutional block in PyTorch\n",
        "## conv1 = nn.Conv2d(in_channels, out_channels, kernal_size)\n",
        "## dropout1 = nn.Dropout2d(p = 0.2)\n",
        "## relu1 = nn.ReLU()"
      ],
      "metadata": {
        "id": "uFAiyIuCPQS9"
      },
      "execution_count": 7,
      "outputs": []
    },
    {
      "cell_type": "code",
      "source": [
        "# Here is how we apply the Converlutional block to the image named X\n",
        "## result = relu1(dropout1(conv1(X)))"
      ],
      "metadata": {
        "id": "cTUr5EcEPlu8"
      },
      "execution_count": 8,
      "outputs": []
    },
    {
      "cell_type": "code",
      "source": [
        "# This is how we can do the same using nn.Sequencial\n",
        "''' conv_block = nn.Sequencial(\n",
        "    nn.Conv2d(in_channel, out_channel, kernal_size),\n",
        "    nn.ReLU(),\n",
        "    nn.Dropout2d(p=0.2)\n",
        ")'''"
      ],
      "metadata": {
        "colab": {
          "base_uri": "https://localhost:8080/",
          "height": 35
        },
        "id": "XXu72ZoVQiCB",
        "outputId": "543bb8e3-9ab7-4c60-d313-8d761e6976b3"
      },
      "execution_count": 9,
      "outputs": [
        {
          "output_type": "execute_result",
          "data": {
            "text/plain": [
              "' conv_block = nn.Sequencial(\\n    nn.Conv2d(in_channel, out_channel, kernal_size),\\n    nn.ReLU(),\\n    nn.Dropout2d(p=0.2)\\n)'"
            ],
            "application/vnd.google.colaboratory.intrinsic+json": {
              "type": "string"
            }
          },
          "metadata": {},
          "execution_count": 9
        }
      ]
    },
    {
      "cell_type": "code",
      "source": [
        "# Here is how we apply the Converlutional block to the image named X\n",
        "## result = conv_block1(X)"
      ],
      "metadata": {
        "id": "WGLR3eeVTdER"
      },
      "execution_count": 10,
      "outputs": []
    },
    {
      "cell_type": "code",
      "source": [
        "## padding types\n",
        "# padding = 'same'\n",
        "# padding = 'valid'\n",
        "# padding_mode = 'reflect'\n",
        "# padding_mode = 'replicate'\n",
        "# padding_mode = 'circular'"
      ],
      "metadata": {
        "id": "Ug4WG8iVTmiG"
      },
      "execution_count": null,
      "outputs": []
    }
  ]
}